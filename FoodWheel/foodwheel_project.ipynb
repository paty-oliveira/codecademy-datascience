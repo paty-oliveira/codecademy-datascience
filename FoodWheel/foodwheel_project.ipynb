{
 "cells": [
  {
   "cell_type": "markdown",
   "metadata": {},
   "source": [
    "## Exploratory Data Analysis for FoodWheel Company\n",
    "***"
   ]
  },
  {
   "cell_type": "markdown",
   "metadata": {},
   "source": [
    "FoodWheel is a startup delivery service that takes away the struggle of deciding where to eat! FoodWheel picks you an amazing local restaurant and lets you order through the app. Senior leadership is getting ready for a big board meeting, and as the resident Data Analyst, you have been enlisted to help decipher data and create a presentation to answer several key questions:\n",
    "\n",
    "- What cuisines does FoodWheel offer? Which areas should the company search for more restaurants to partner with?\n",
    "- How has the average order amount changed over time? What does this say about the trajectory of the company?\n",
    "- How much has each customer on FoodWheel spent over the past six months? What can this tell us about the average FoodWheel customer?\n"
   ]
  },
  {
   "cell_type": "markdown",
   "source": [
    "## Inspecting restaurant data"
   ],
   "metadata": {
    "collapsed": false,
    "pycharm": {
     "name": "#%% md\n"
    }
   }
  },
  {
   "cell_type": "code",
   "execution_count": 1,
   "outputs": [
    {
     "data": {
      "text/plain": "   id                     name neighborhood     cuisine\n0   1               Jongro BBQ      Midtown      Korean\n1   2                 Pocha 32      Midtown      Korean\n2   3       Nom Wah Tea Parlor    Chinatown     Chinese\n3   4                Roberta’s     Brooklyn       Pizza\n4   5             Speedy Romeo     Brooklyn       Pizza\n5   6             Buddha Bodai    Chinatown  Vegetarian\n6   7  Nan Xiang Xiao Long Bao       Queens     Chinese\n7   8     Mission Chinese Food     Downtown     Chinese\n8   9                  Baohaus     Downtown     Chinese\n9  10       al di la Trattoria     Brooklyn     Italian",
      "text/html": "<div>\n<style scoped>\n    .dataframe tbody tr th:only-of-type {\n        vertical-align: middle;\n    }\n\n    .dataframe tbody tr th {\n        vertical-align: top;\n    }\n\n    .dataframe thead th {\n        text-align: right;\n    }\n</style>\n<table border=\"1\" class=\"dataframe\">\n  <thead>\n    <tr style=\"text-align: right;\">\n      <th></th>\n      <th>id</th>\n      <th>name</th>\n      <th>neighborhood</th>\n      <th>cuisine</th>\n    </tr>\n  </thead>\n  <tbody>\n    <tr>\n      <th>0</th>\n      <td>1</td>\n      <td>Jongro BBQ</td>\n      <td>Midtown</td>\n      <td>Korean</td>\n    </tr>\n    <tr>\n      <th>1</th>\n      <td>2</td>\n      <td>Pocha 32</td>\n      <td>Midtown</td>\n      <td>Korean</td>\n    </tr>\n    <tr>\n      <th>2</th>\n      <td>3</td>\n      <td>Nom Wah Tea Parlor</td>\n      <td>Chinatown</td>\n      <td>Chinese</td>\n    </tr>\n    <tr>\n      <th>3</th>\n      <td>4</td>\n      <td>Roberta’s</td>\n      <td>Brooklyn</td>\n      <td>Pizza</td>\n    </tr>\n    <tr>\n      <th>4</th>\n      <td>5</td>\n      <td>Speedy Romeo</td>\n      <td>Brooklyn</td>\n      <td>Pizza</td>\n    </tr>\n    <tr>\n      <th>5</th>\n      <td>6</td>\n      <td>Buddha Bodai</td>\n      <td>Chinatown</td>\n      <td>Vegetarian</td>\n    </tr>\n    <tr>\n      <th>6</th>\n      <td>7</td>\n      <td>Nan Xiang Xiao Long Bao</td>\n      <td>Queens</td>\n      <td>Chinese</td>\n    </tr>\n    <tr>\n      <th>7</th>\n      <td>8</td>\n      <td>Mission Chinese Food</td>\n      <td>Downtown</td>\n      <td>Chinese</td>\n    </tr>\n    <tr>\n      <th>8</th>\n      <td>9</td>\n      <td>Baohaus</td>\n      <td>Downtown</td>\n      <td>Chinese</td>\n    </tr>\n    <tr>\n      <th>9</th>\n      <td>10</td>\n      <td>al di la Trattoria</td>\n      <td>Brooklyn</td>\n      <td>Italian</td>\n    </tr>\n  </tbody>\n</table>\n</div>"
     },
     "execution_count": 1,
     "metadata": {},
     "output_type": "execute_result"
    }
   ],
   "source": [
    "import pandas as pd\n",
    "\n",
    "restaurant_df = pd.read_csv(\"data/restaurants.csv\")\n",
    "\n",
    "restaurant_df.head(10)"
   ],
   "metadata": {
    "collapsed": false,
    "pycharm": {
     "name": "#%%\n"
    }
   }
  },
  {
   "cell_type": "markdown",
   "source": [
    "### Shape"
   ],
   "metadata": {
    "collapsed": false
   }
  },
  {
   "cell_type": "code",
   "execution_count": 2,
   "outputs": [
    {
     "name": "stdout",
     "output_type": "stream",
     "text": [
      "Number of rows:  44\n",
      "Number of columns:  4\n"
     ]
    }
   ],
   "source": [
    "nr_rows, nr_columns = restaurant_df.shape\n",
    "\n",
    "print(\"Number of rows: \", nr_rows)\n",
    "print(\"Number of columns: \", nr_columns)"
   ],
   "metadata": {
    "collapsed": false,
    "pycharm": {
     "name": "#%%\n"
    }
   }
  },
  {
   "cell_type": "markdown",
   "source": [
    "### Data types"
   ],
   "metadata": {
    "collapsed": false,
    "pycharm": {
     "name": "#%% md\n"
    }
   }
  },
  {
   "cell_type": "code",
   "execution_count": 3,
   "outputs": [
    {
     "data": {
      "text/plain": "id               int64\nname            object\nneighborhood    object\ncuisine         object\ndtype: object"
     },
     "execution_count": 3,
     "metadata": {},
     "output_type": "execute_result"
    }
   ],
   "source": [
    "restaurant_df.dtypes"
   ],
   "metadata": {
    "collapsed": false,
    "pycharm": {
     "name": "#%%\n"
    }
   }
  },
  {
   "cell_type": "markdown",
   "source": [
    "### Missing values"
   ],
   "metadata": {
    "collapsed": false,
    "pycharm": {
     "name": "#%% md\n"
    }
   }
  },
  {
   "cell_type": "code",
   "execution_count": 4,
   "outputs": [
    {
     "data": {
      "text/plain": "id              0\nname            0\nneighborhood    0\ncuisine         0\ndtype: int64"
     },
     "execution_count": 4,
     "metadata": {},
     "output_type": "execute_result"
    }
   ],
   "source": [
    "restaurant_df.isnull().sum()"
   ],
   "metadata": {
    "collapsed": false,
    "pycharm": {
     "name": "#%%\n"
    }
   }
  },
  {
   "cell_type": "markdown",
   "source": [
    "### Distinct values"
   ],
   "metadata": {
    "collapsed": false,
    "pycharm": {
     "name": "#%% md\n"
    }
   }
  },
  {
   "cell_type": "code",
   "execution_count": 5,
   "outputs": [
    {
     "name": "stdout",
     "output_type": "stream",
     "text": [
      "Distinct values for cuisine column: \n",
      "Korean\n",
      "Chinese\n",
      "Pizza\n",
      "Vegetarian\n",
      "Italian\n",
      "Japanese\n",
      "American\n",
      "Distinct values for neighborhood column: \n",
      "Midtown\n",
      "Chinatown\n",
      "Brooklyn\n",
      "Queens\n",
      "Downtown\n",
      "Uptown\n",
      "UWS\n"
     ]
    }
   ],
   "source": [
    "cuisine_unique_values = restaurant_df.cuisine.unique()\n",
    "print(\"Distinct values for cuisine column: \", *cuisine_unique_values, sep=\"\\n\")\n",
    "\n",
    "neighborhood_unique_values = restaurant_df.neighborhood.unique()\n",
    "print(\"Distinct values for neighborhood column: \", *neighborhood_unique_values, sep=\"\\n\")"
   ],
   "metadata": {
    "collapsed": false,
    "pycharm": {
     "name": "#%%\n"
    }
   }
  },
  {
   "cell_type": "markdown",
   "source": [],
   "metadata": {
    "collapsed": false,
    "pycharm": {
     "name": "#%% md\n"
    }
   }
  },
  {
   "cell_type": "code",
   "execution_count": 6,
   "outputs": [
    {
     "data": {
      "text/plain": "id               int64\nname            string\nneighborhood    string\ncuisine         string\ndtype: object"
     },
     "execution_count": 6,
     "metadata": {},
     "output_type": "execute_result"
    }
   ],
   "source": [
    "restaurant_df[[\"name\", \"neighborhood\", \"cuisine\"]] = restaurant_df[[\"name\", \"neighborhood\", \"cuisine\"]].astype(\"string\")\n",
    "\n",
    "restaurant_df.dtypes"
   ],
   "metadata": {
    "collapsed": false,
    "pycharm": {
     "name": "#%%\n"
    }
   }
  },
  {
   "cell_type": "markdown",
   "source": [
    "## Analyzing FoodWheel Cuisines\n",
    "\n",
    "The board wants to make sure that FoodWheel offers a wide variety of restaurants. Having many different options makes customers more likely to come back.\n",
    "\n",
    "- What cuisines does FoodWheel offer?\n",
    "- Which areas should the company search for more restaurants to partner with?"
   ],
   "metadata": {
    "collapsed": false
   }
  },
  {
   "cell_type": "code",
   "execution_count": 7,
   "outputs": [
    {
     "data": {
      "text/plain": "      cuisine  name\n0    American    10\n1     Chinese    11\n2     Italian     8\n3    Japanese     4\n4      Korean     3\n5       Pizza     4\n6  Vegetarian     4",
      "text/html": "<div>\n<style scoped>\n    .dataframe tbody tr th:only-of-type {\n        vertical-align: middle;\n    }\n\n    .dataframe tbody tr th {\n        vertical-align: top;\n    }\n\n    .dataframe thead th {\n        text-align: right;\n    }\n</style>\n<table border=\"1\" class=\"dataframe\">\n  <thead>\n    <tr style=\"text-align: right;\">\n      <th></th>\n      <th>cuisine</th>\n      <th>name</th>\n    </tr>\n  </thead>\n  <tbody>\n    <tr>\n      <th>0</th>\n      <td>American</td>\n      <td>10</td>\n    </tr>\n    <tr>\n      <th>1</th>\n      <td>Chinese</td>\n      <td>11</td>\n    </tr>\n    <tr>\n      <th>2</th>\n      <td>Italian</td>\n      <td>8</td>\n    </tr>\n    <tr>\n      <th>3</th>\n      <td>Japanese</td>\n      <td>4</td>\n    </tr>\n    <tr>\n      <th>4</th>\n      <td>Korean</td>\n      <td>3</td>\n    </tr>\n    <tr>\n      <th>5</th>\n      <td>Pizza</td>\n      <td>4</td>\n    </tr>\n    <tr>\n      <th>6</th>\n      <td>Vegetarian</td>\n      <td>4</td>\n    </tr>\n  </tbody>\n</table>\n</div>"
     },
     "execution_count": 7,
     "metadata": {},
     "output_type": "execute_result"
    }
   ],
   "source": [
    "cuisine_by_type = restaurant_df.groupby(\"cuisine\").name.count().reset_index()\n",
    "\n",
    "cuisine_by_type.head(10)"
   ],
   "metadata": {
    "collapsed": false,
    "pycharm": {
     "name": "#%%\n"
    }
   }
  },
  {
   "cell_type": "code",
   "execution_count": 8,
   "outputs": [
    {
     "data": {
      "text/plain": "<Figure size 432x288 with 1 Axes>",
      "image/png": "[encoded data removed]"
     },
     "metadata": {},
     "output_type": "display_data"
    }
   ],
   "source": [
    "import matplotlib.pyplot as plt\n",
    "\n",
    "plt.pie(\n",
    "    x=cuisine_by_type.name.values,\n",
    "    labels=cuisine_by_type.cuisine.values,\n",
    "    autopct=\"%d%%\"\n",
    "    )\n",
    "\n",
    "plt.axis(\"equal\")\n",
    "plt.title(\"Cuisines offered by FoodWheel\")\n",
    "plt.show()"
   ],
   "metadata": {
    "collapsed": false,
    "pycharm": {
     "name": "#%%\n"
    }
   }
  },
  {
   "cell_type": "markdown",
   "metadata": {
    "pycharm": {
     "name": "#%% md\n"
    }
   },
   "source": [
    "## Inspecting orders data"
   ]
  },
  {
   "cell_type": "code",
   "execution_count": 9,
   "outputs": [
    {
     "data": {
      "text/plain": "   id  customer_id       date  price\n0   1           61  6-18-2017   13.0\n1   2          210   5-8-2017   21.0\n2   3            0   9-7-2017   33.0\n3   4           66   7-7-2017   19.0\n4   5           65  4-26-2017   13.0\n5   6           43   6-7-2017   18.0\n6   7            8  6-25-2017   19.0\n7   8          104   4-8-2017    8.0\n8   9          136   9-6-2017   32.0\n9  10          116  4-10-2017   15.0",
      "text/html": "<div>\n<style scoped>\n    .dataframe tbody tr th:only-of-type {\n        vertical-align: middle;\n    }\n\n    .dataframe tbody tr th {\n        vertical-align: top;\n    }\n\n    .dataframe thead th {\n        text-align: right;\n    }\n</style>\n<table border=\"1\" class=\"dataframe\">\n  <thead>\n    <tr style=\"text-align: right;\">\n      <th></th>\n      <th>id</th>\n      <th>customer_id</th>\n      <th>date</th>\n      <th>price</th>\n    </tr>\n  </thead>\n  <tbody>\n    <tr>\n      <th>0</th>\n      <td>1</td>\n      <td>61</td>\n      <td>6-18-2017</td>\n      <td>13.0</td>\n    </tr>\n    <tr>\n      <th>1</th>\n      <td>2</td>\n      <td>210</td>\n      <td>5-8-2017</td>\n      <td>21.0</td>\n    </tr>\n    <tr>\n      <th>2</th>\n      <td>3</td>\n      <td>0</td>\n      <td>9-7-2017</td>\n      <td>33.0</td>\n    </tr>\n    <tr>\n      <th>3</th>\n      <td>4</td>\n      <td>66</td>\n      <td>7-7-2017</td>\n      <td>19.0</td>\n    </tr>\n    <tr>\n      <th>4</th>\n      <td>5</td>\n      <td>65</td>\n      <td>4-26-2017</td>\n      <td>13.0</td>\n    </tr>\n    <tr>\n      <th>5</th>\n      <td>6</td>\n      <td>43</td>\n      <td>6-7-2017</td>\n      <td>18.0</td>\n    </tr>\n    <tr>\n      <th>6</th>\n      <td>7</td>\n      <td>8</td>\n      <td>6-25-2017</td>\n      <td>19.0</td>\n    </tr>\n    <tr>\n      <th>7</th>\n      <td>8</td>\n      <td>104</td>\n      <td>4-8-2017</td>\n      <td>8.0</td>\n    </tr>\n    <tr>\n      <th>8</th>\n      <td>9</td>\n      <td>136</td>\n      <td>9-6-2017</td>\n      <td>32.0</td>\n    </tr>\n    <tr>\n      <th>9</th>\n      <td>10</td>\n      <td>116</td>\n      <td>4-10-2017</td>\n      <td>15.0</td>\n    </tr>\n  </tbody>\n</table>\n</div>"
     },
     "execution_count": 9,
     "metadata": {},
     "output_type": "execute_result"
    }
   ],
   "source": [
    "orders_df = pd.read_csv(\"data/orders.csv\")\n",
    "\n",
    "orders_df.head(10)"
   ],
   "metadata": {
    "collapsed": false,
    "pycharm": {
     "name": "#%%\n"
    }
   }
  },
  {
   "cell_type": "markdown",
   "source": [
    "### Shape"
   ],
   "metadata": {
    "collapsed": false,
    "pycharm": {
     "name": "#%% md\n"
    }
   }
  },
  {
   "cell_type": "code",
   "execution_count": 10,
   "outputs": [
    {
     "name": "stdout",
     "output_type": "stream",
     "text": [
      "Number of rows:  500\n",
      "Number of columns:  4\n"
     ]
    }
   ],
   "source": [
    "nr_rows, nr_columns = orders_df.shape\n",
    "\n",
    "print(\"Number of rows: \", nr_rows)\n",
    "print(\"Number of columns: \", nr_columns)"
   ],
   "metadata": {
    "collapsed": false,
    "pycharm": {
     "name": "#%%\n"
    }
   }
  },
  {
   "cell_type": "markdown",
   "source": [
    "### Data types"
   ],
   "metadata": {
    "collapsed": false,
    "pycharm": {
     "name": "#%% md\n"
    }
   }
  },
  {
   "cell_type": "code",
   "execution_count": 11,
   "outputs": [
    {
     "data": {
      "text/plain": "id               int64\ncustomer_id      int64\ndate            object\nprice          float64\ndtype: object"
     },
     "execution_count": 11,
     "metadata": {},
     "output_type": "execute_result"
    }
   ],
   "source": [
    "orders_df.dtypes"
   ],
   "metadata": {
    "collapsed": false,
    "pycharm": {
     "name": "#%%\n"
    }
   }
  },
  {
   "cell_type": "markdown",
   "source": [
    "### Missing values"
   ],
   "metadata": {
    "collapsed": false,
    "pycharm": {
     "name": "#%% md\n"
    }
   }
  },
  {
   "cell_type": "code",
   "execution_count": 12,
   "outputs": [
    {
     "data": {
      "text/plain": "id             0\ncustomer_id    0\ndate           0\nprice          0\ndtype: int64"
     },
     "execution_count": 12,
     "metadata": {},
     "output_type": "execute_result"
    }
   ],
   "source": [
    "orders_df.isnull().sum()"
   ],
   "metadata": {
    "collapsed": false,
    "pycharm": {
     "name": "#%%\n"
    }
   }
  },
  {
   "cell_type": "markdown",
   "source": [
    "## Preprocessing orders data"
   ],
   "metadata": {
    "collapsed": false,
    "pycharm": {
     "name": "#%% md\n"
    }
   }
  },
  {
   "cell_type": "code",
   "execution_count": 13,
   "outputs": [
    {
     "data": {
      "text/plain": "   id  customer_id       date  price  day  month  year\n0   1           61 2017-06-18   13.0   18      6  2017\n1   2          210 2017-05-08   21.0    8      5  2017\n2   3            0 2017-09-07   33.0    7      9  2017\n3   4           66 2017-07-07   19.0    7      7  2017\n4   5           65 2017-04-26   13.0   26      4  2017\n5   6           43 2017-06-07   18.0    7      6  2017\n6   7            8 2017-06-25   19.0   25      6  2017\n7   8          104 2017-04-08    8.0    8      4  2017\n8   9          136 2017-09-06   32.0    6      9  2017\n9  10          116 2017-04-10   15.0   10      4  2017",
      "text/html": "<div>\n<style scoped>\n    .dataframe tbody tr th:only-of-type {\n        vertical-align: middle;\n    }\n\n    .dataframe tbody tr th {\n        vertical-align: top;\n    }\n\n    .dataframe thead th {\n        text-align: right;\n    }\n</style>\n<table border=\"1\" class=\"dataframe\">\n  <thead>\n    <tr style=\"text-align: right;\">\n      <th></th>\n      <th>id</th>\n      <th>customer_id</th>\n      <th>date</th>\n      <th>price</th>\n      <th>day</th>\n      <th>month</th>\n      <th>year</th>\n    </tr>\n  </thead>\n  <tbody>\n    <tr>\n      <th>0</th>\n      <td>1</td>\n      <td>61</td>\n      <td>2017-06-18</td>\n      <td>13.0</td>\n      <td>18</td>\n      <td>6</td>\n      <td>2017</td>\n    </tr>\n    <tr>\n      <th>1</th>\n      <td>2</td>\n      <td>210</td>\n      <td>2017-05-08</td>\n      <td>21.0</td>\n      <td>8</td>\n      <td>5</td>\n      <td>2017</td>\n    </tr>\n    <tr>\n      <th>2</th>\n      <td>3</td>\n      <td>0</td>\n      <td>2017-09-07</td>\n      <td>33.0</td>\n      <td>7</td>\n      <td>9</td>\n      <td>2017</td>\n    </tr>\n    <tr>\n      <th>3</th>\n      <td>4</td>\n      <td>66</td>\n      <td>2017-07-07</td>\n      <td>19.0</td>\n      <td>7</td>\n      <td>7</td>\n      <td>2017</td>\n    </tr>\n    <tr>\n      <th>4</th>\n      <td>5</td>\n      <td>65</td>\n      <td>2017-04-26</td>\n      <td>13.0</td>\n      <td>26</td>\n      <td>4</td>\n      <td>2017</td>\n    </tr>\n    <tr>\n      <th>5</th>\n      <td>6</td>\n      <td>43</td>\n      <td>2017-06-07</td>\n      <td>18.0</td>\n      <td>7</td>\n      <td>6</td>\n      <td>2017</td>\n    </tr>\n    <tr>\n      <th>6</th>\n      <td>7</td>\n      <td>8</td>\n      <td>2017-06-25</td>\n      <td>19.0</td>\n      <td>25</td>\n      <td>6</td>\n      <td>2017</td>\n    </tr>\n    <tr>\n      <th>7</th>\n      <td>8</td>\n      <td>104</td>\n      <td>2017-04-08</td>\n      <td>8.0</td>\n      <td>8</td>\n      <td>4</td>\n      <td>2017</td>\n    </tr>\n    <tr>\n      <th>8</th>\n      <td>9</td>\n      <td>136</td>\n      <td>2017-09-06</td>\n      <td>32.0</td>\n      <td>6</td>\n      <td>9</td>\n      <td>2017</td>\n    </tr>\n    <tr>\n      <th>9</th>\n      <td>10</td>\n      <td>116</td>\n      <td>2017-04-10</td>\n      <td>15.0</td>\n      <td>10</td>\n      <td>4</td>\n      <td>2017</td>\n    </tr>\n  </tbody>\n</table>\n</div>"
     },
     "execution_count": 13,
     "metadata": {},
     "output_type": "execute_result"
    }
   ],
   "source": [
    "orders_df[\"date\"] = orders_df[\"date\"].astype(\"datetime64\")\n",
    "orders_df[\"day\"] = orders_df[\"date\"].dt.day\n",
    "orders_df[\"month\"] = orders_df[\"date\"].dt.month\n",
    "orders_df[\"year\"] = orders_df[\"date\"].dt.year\n",
    "\n",
    "orders_df.head(10)"
   ],
   "metadata": {
    "collapsed": false,
    "pycharm": {
     "name": "#%%\n"
    }
   }
  },
  {
   "cell_type": "markdown",
   "source": [
    "## Visualizing Orders over Time\n",
    "\n",
    "FoodWheel is a relatively new start up.  They launched one year ago, and have grown more popular since then.  Management suspects that the average order size has increased over time. Create a bar plot that demonstrates the trend in average order size over time.\n",
    "\n",
    "- How has the average order amount changed over time? What does this say about the trajectory of the company?\n"
   ],
   "metadata": {
    "collapsed": false
   }
  },
  {
   "cell_type": "code",
   "execution_count": 14,
   "outputs": [
    {
     "data": {
      "text/plain": "   month      price\n0      4   9.609195\n1      5  14.858824\n2      6  15.152174\n3      7  18.012821\n4      8  21.150685\n5      9  29.505882",
      "text/html": "<div>\n<style scoped>\n    .dataframe tbody tr th:only-of-type {\n        vertical-align: middle;\n    }\n\n    .dataframe tbody tr th {\n        vertical-align: top;\n    }\n\n    .dataframe thead th {\n        text-align: right;\n    }\n</style>\n<table border=\"1\" class=\"dataframe\">\n  <thead>\n    <tr style=\"text-align: right;\">\n      <th></th>\n      <th>month</th>\n      <th>price</th>\n    </tr>\n  </thead>\n  <tbody>\n    <tr>\n      <th>0</th>\n      <td>4</td>\n      <td>9.609195</td>\n    </tr>\n    <tr>\n      <th>1</th>\n      <td>5</td>\n      <td>14.858824</td>\n    </tr>\n    <tr>\n      <th>2</th>\n      <td>6</td>\n      <td>15.152174</td>\n    </tr>\n    <tr>\n      <th>3</th>\n      <td>7</td>\n      <td>18.012821</td>\n    </tr>\n    <tr>\n      <th>4</th>\n      <td>8</td>\n      <td>21.150685</td>\n    </tr>\n    <tr>\n      <th>5</th>\n      <td>9</td>\n      <td>29.505882</td>\n    </tr>\n  </tbody>\n</table>\n</div>"
     },
     "execution_count": 14,
     "metadata": {},
     "output_type": "execute_result"
    }
   ],
   "source": [
    "orders_by_date = orders_df.groupby(\"month\").price.mean().reset_index()\n",
    "\n",
    "orders_by_date"
   ],
   "metadata": {
    "collapsed": false,
    "pycharm": {
     "name": "#%%\n"
    }
   }
  },
  {
   "cell_type": "code",
   "execution_count": 15,
   "outputs": [
    {
     "data": {
      "text/plain": "   month     price\n0      4  2.562504\n1      5  3.395210\n2      6  2.835934\n3      7  2.848985\n4      8  4.455556\n5      9  4.518806",
      "text/html": "<div>\n<style scoped>\n    .dataframe tbody tr th:only-of-type {\n        vertical-align: middle;\n    }\n\n    .dataframe tbody tr th {\n        vertical-align: top;\n    }\n\n    .dataframe thead th {\n        text-align: right;\n    }\n</style>\n<table border=\"1\" class=\"dataframe\">\n  <thead>\n    <tr style=\"text-align: right;\">\n      <th></th>\n      <th>month</th>\n      <th>price</th>\n    </tr>\n  </thead>\n  <tbody>\n    <tr>\n      <th>0</th>\n      <td>4</td>\n      <td>2.562504</td>\n    </tr>\n    <tr>\n      <th>1</th>\n      <td>5</td>\n      <td>3.395210</td>\n    </tr>\n    <tr>\n      <th>2</th>\n      <td>6</td>\n      <td>2.835934</td>\n    </tr>\n    <tr>\n      <th>3</th>\n      <td>7</td>\n      <td>2.848985</td>\n    </tr>\n    <tr>\n      <th>4</th>\n      <td>8</td>\n      <td>4.455556</td>\n    </tr>\n    <tr>\n      <th>5</th>\n      <td>9</td>\n      <td>4.518806</td>\n    </tr>\n  </tbody>\n</table>\n</div>"
     },
     "execution_count": 15,
     "metadata": {},
     "output_type": "execute_result"
    }
   ],
   "source": [
    "std_order = orders_df.groupby(\"month\").price.std().reset_index()\n",
    "\n",
    "std_order"
   ],
   "metadata": {
    "collapsed": false,
    "pycharm": {
     "name": "#%%\n"
    }
   }
  },
  {
   "cell_type": "code",
   "execution_count": 16,
   "outputs": [
    {
     "data": {
      "text/plain": "<Figure size 432x288 with 1 Axes>",
      "image/png": "[encoded data removed]"
     },
     "metadata": {
      "needs_background": "light"
     },
     "output_type": "display_data"
    }
   ],
   "source": [
    "ax = plt.subplot()\n",
    "\n",
    "plt.bar(\n",
    "    range(len(orders_by_date)),\n",
    "    orders_by_date.price,\n",
    "    yerr=std_order.price,\n",
    "    capsize=5.0\n",
    ")\n",
    "\n",
    "ax.set_xticks(range(len(orders_by_date)))\n",
    "ax.set_xticklabels([\"April\", \"May\", \"June\", \"July\", \"August\", \"September\"])\n",
    "plt.ylabel(\"Average Order Amount\")\n",
    "plt.title(\"Average order amount during the time\")\n",
    "plt.show()"
   ],
   "metadata": {
    "collapsed": false,
    "pycharm": {
     "name": "#%%\n"
    }
   }
  },
  {
   "cell_type": "markdown",
   "metadata": {},
   "source": [
    "## Analyze Customer types\n",
    "\n",
    "There is a range of amounts that customers spend at FoodWheel.  Create a histogram of the amount spent by each customer over the past six months with the following format:"
   ]
  },
  {
   "cell_type": "code",
   "execution_count": 17,
   "outputs": [
    {
     "data": {
      "text/plain": "     customer_id  price\n0              0   83.0\n1              2   11.0\n2              3   65.0\n3              4   32.0\n4              5  119.0\n..           ...    ...\n219          245   68.0\n220          246   16.0\n221          247   35.0\n222          248   89.0\n223          249   27.0\n\n[224 rows x 2 columns]",
      "text/html": "<div>\n<style scoped>\n    .dataframe tbody tr th:only-of-type {\n        vertical-align: middle;\n    }\n\n    .dataframe tbody tr th {\n        vertical-align: top;\n    }\n\n    .dataframe thead th {\n        text-align: right;\n    }\n</style>\n<table border=\"1\" class=\"dataframe\">\n  <thead>\n    <tr style=\"text-align: right;\">\n      <th></th>\n      <th>customer_id</th>\n      <th>price</th>\n    </tr>\n  </thead>\n  <tbody>\n    <tr>\n      <th>0</th>\n      <td>0</td>\n      <td>83.0</td>\n    </tr>\n    <tr>\n      <th>1</th>\n      <td>2</td>\n      <td>11.0</td>\n    </tr>\n    <tr>\n      <th>2</th>\n      <td>3</td>\n      <td>65.0</td>\n    </tr>\n    <tr>\n      <th>3</th>\n      <td>4</td>\n      <td>32.0</td>\n    </tr>\n    <tr>\n      <th>4</th>\n      <td>5</td>\n      <td>119.0</td>\n    </tr>\n    <tr>\n      <th>...</th>\n      <td>...</td>\n      <td>...</td>\n    </tr>\n    <tr>\n      <th>219</th>\n      <td>245</td>\n      <td>68.0</td>\n    </tr>\n    <tr>\n      <th>220</th>\n      <td>246</td>\n      <td>16.0</td>\n    </tr>\n    <tr>\n      <th>221</th>\n      <td>247</td>\n      <td>35.0</td>\n    </tr>\n    <tr>\n      <th>222</th>\n      <td>248</td>\n      <td>89.0</td>\n    </tr>\n    <tr>\n      <th>223</th>\n      <td>249</td>\n      <td>27.0</td>\n    </tr>\n  </tbody>\n</table>\n<p>224 rows × 2 columns</p>\n</div>"
     },
     "execution_count": 17,
     "metadata": {},
     "output_type": "execute_result"
    }
   ],
   "source": [
    "orders_by_customer = orders_df.groupby(\"customer_id\").price.sum().reset_index()\n",
    "\n",
    "orders_by_customer"
   ],
   "metadata": {
    "collapsed": false,
    "pycharm": {
     "name": "#%%\n"
    }
   }
  },
  {
   "cell_type": "code",
   "execution_count": 18,
   "outputs": [
    {
     "data": {
      "text/plain": "Text(0.5, 1.0, 'The amount spent by each customer over the past six months')"
     },
     "execution_count": 18,
     "metadata": {},
     "output_type": "execute_result"
    },
    {
     "data": {
      "text/plain": "<Figure size 432x288 with 1 Axes>",
      "image/png": "[encoded data removed]"
     },
     "metadata": {
      "needs_background": "light"
     },
     "output_type": "display_data"
    }
   ],
   "source": [
    "plt.hist(\n",
    "    orders_by_customer.price.values,\n",
    "    range=(0, 200),\n",
    "    bins=40\n",
    "    )\n",
    "\n",
    "plt.xlabel(\"Total Spent\")\n",
    "plt.ylabel(\"Number of Customers\")\n",
    "plt.title(\"The amount spent by each customer over the past six months\")"
   ],
   "metadata": {
    "collapsed": false,
    "pycharm": {
     "name": "#%%\n"
    }
   }
  },
  {
   "cell_type": "markdown",
   "source": [
    "## Analyzing restaurants by neighborhood"
   ],
   "metadata": {
    "collapsed": false,
    "pycharm": {
     "name": "#%% md\n"
    }
   }
  },
  {
   "cell_type": "code",
   "execution_count": 19,
   "outputs": [
    {
     "data": {
      "text/plain": "<Figure size 1440x1080 with 1 Axes>",
      "image/png": "[encoded data removed]"
     },
     "metadata": {
      "needs_background": "light"
     },
     "output_type": "display_data"
    }
   ],
   "source": [
    "fig, ax = plt.subplots(figsize=(20, 15))\n",
    "\n",
    "plt.bar(\n",
    "    restaurant_df[\"neighborhood\"].unique(),\n",
    "    restaurant_df[\"neighborhood\"].value_counts().values,\n",
    "    capsize=5\n",
    ")\n",
    "\n",
    "ax.set_xticks(range(len(restaurant_df[\"neighborhood\"].unique())))\n",
    "ax.set_xticklabels(['Downtown', 'Brooklyn', 'Midtown', 'Chinatown', 'Uptown', 'Queens', 'UWS'], fontsize=18)\n",
    "plt.ylabel(\"Restaurant Count\")\n",
    "plt.title(\"Restaurant Count for each Neighborhood\")\n",
    "plt.show()"
   ],
   "metadata": {
    "collapsed": false,
    "pycharm": {
     "name": "#%%\n"
    }
   }
  }
 ],
 "metadata": {
  "kernelspec": {
   "display_name": "Python 3",
   "language": "python",
   "name": "python3"
  },
  "language_info": {
   "codemirror_mode": {
    "name": "ipython",
    "version": 3
   },
   "file_extension": ".py",
   "mimetype": "text/x-python",
   "name": "python",
   "nbconvert_exporter": "python",
   "pygments_lexer": "ipython3",
   "version": "3.8.3"
  },
  "toc": {
   "base_numbering": 1,
   "nav_menu": {},
   "number_sections": true,
   "sideBar": true,
   "skip_h1_title": false,
   "title_cell": "Table of Contents",
   "title_sidebar": "Contents",
   "toc_cell": false,
   "toc_position": {},
   "toc_section_display": true,
   "toc_window_display": false
  }
 },
 "nbformat": 4,
 "nbformat_minor": 2
}