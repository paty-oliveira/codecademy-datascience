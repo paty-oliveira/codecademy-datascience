{
 "cells": [
  {
   "cell_type": "markdown",
   "metadata": {
    "collapsed": true,
    "pycharm": {
     "name": "#%% md\n"
    }
   },
   "source": [
    "# Honey Production"
   ]
  },
  {
   "cell_type": "markdown",
   "source": [
    "## Inspecting Data\n"
   ],
   "metadata": {
    "collapsed": false,
    "pycharm": {
     "name": "#%% md\n"
    }
   }
  },
  {
   "cell_type": "code",
   "execution_count": 4,
   "outputs": [
    {
     "data": {
      "text/plain": "  state    numcol  yieldpercol   totalprod      stocks  priceperlb  \\\n0    AL   16000.0           71   1136000.0    159000.0        0.72   \n1    AZ   55000.0           60   3300000.0   1485000.0        0.64   \n2    AR   53000.0           65   3445000.0   1688000.0        0.59   \n3    CA  450000.0           83  37350000.0  12326000.0        0.62   \n4    CO   27000.0           72   1944000.0   1594000.0        0.70   \n5    FL  230000.0           98  22540000.0   4508000.0        0.64   \n6    GA   75000.0           56   4200000.0    307000.0        0.69   \n7    HI    8000.0          118    944000.0     66000.0        0.77   \n8    ID  120000.0           50   6000000.0   2220000.0        0.65   \n9    IL    9000.0           71    639000.0    204000.0        1.19   \n\n    prodvalue  year  \n0    818000.0  1998  \n1   2112000.0  1998  \n2   2033000.0  1998  \n3  23157000.0  1998  \n4   1361000.0  1998  \n5  14426000.0  1998  \n6   2898000.0  1998  \n7    727000.0  1998  \n8   3900000.0  1998  \n9    760000.0  1998  ",
      "text/html": "<div>\n<style scoped>\n    .dataframe tbody tr th:only-of-type {\n        vertical-align: middle;\n    }\n\n    .dataframe tbody tr th {\n        vertical-align: top;\n    }\n\n    .dataframe thead th {\n        text-align: right;\n    }\n</style>\n<table border=\"1\" class=\"dataframe\">\n  <thead>\n    <tr style=\"text-align: right;\">\n      <th></th>\n      <th>state</th>\n      <th>numcol</th>\n      <th>yieldpercol</th>\n      <th>totalprod</th>\n      <th>stocks</th>\n      <th>priceperlb</th>\n      <th>prodvalue</th>\n      <th>year</th>\n    </tr>\n  </thead>\n  <tbody>\n    <tr>\n      <th>0</th>\n      <td>AL</td>\n      <td>16000.0</td>\n      <td>71</td>\n      <td>1136000.0</td>\n      <td>159000.0</td>\n      <td>0.72</td>\n      <td>818000.0</td>\n      <td>1998</td>\n    </tr>\n    <tr>\n      <th>1</th>\n      <td>AZ</td>\n      <td>55000.0</td>\n      <td>60</td>\n      <td>3300000.0</td>\n      <td>1485000.0</td>\n      <td>0.64</td>\n      <td>2112000.0</td>\n      <td>1998</td>\n    </tr>\n    <tr>\n      <th>2</th>\n      <td>AR</td>\n      <td>53000.0</td>\n      <td>65</td>\n      <td>3445000.0</td>\n      <td>1688000.0</td>\n      <td>0.59</td>\n      <td>2033000.0</td>\n      <td>1998</td>\n    </tr>\n    <tr>\n      <th>3</th>\n      <td>CA</td>\n      <td>450000.0</td>\n      <td>83</td>\n      <td>37350000.0</td>\n      <td>12326000.0</td>\n      <td>0.62</td>\n      <td>23157000.0</td>\n      <td>1998</td>\n    </tr>\n    <tr>\n      <th>4</th>\n      <td>CO</td>\n      <td>27000.0</td>\n      <td>72</td>\n      <td>1944000.0</td>\n      <td>1594000.0</td>\n      <td>0.70</td>\n      <td>1361000.0</td>\n      <td>1998</td>\n    </tr>\n    <tr>\n      <th>5</th>\n      <td>FL</td>\n      <td>230000.0</td>\n      <td>98</td>\n      <td>22540000.0</td>\n      <td>4508000.0</td>\n      <td>0.64</td>\n      <td>14426000.0</td>\n      <td>1998</td>\n    </tr>\n    <tr>\n      <th>6</th>\n      <td>GA</td>\n      <td>75000.0</td>\n      <td>56</td>\n      <td>4200000.0</td>\n      <td>307000.0</td>\n      <td>0.69</td>\n      <td>2898000.0</td>\n      <td>1998</td>\n    </tr>\n    <tr>\n      <th>7</th>\n      <td>HI</td>\n      <td>8000.0</td>\n      <td>118</td>\n      <td>944000.0</td>\n      <td>66000.0</td>\n      <td>0.77</td>\n      <td>727000.0</td>\n      <td>1998</td>\n    </tr>\n    <tr>\n      <th>8</th>\n      <td>ID</td>\n      <td>120000.0</td>\n      <td>50</td>\n      <td>6000000.0</td>\n      <td>2220000.0</td>\n      <td>0.65</td>\n      <td>3900000.0</td>\n      <td>1998</td>\n    </tr>\n    <tr>\n      <th>9</th>\n      <td>IL</td>\n      <td>9000.0</td>\n      <td>71</td>\n      <td>639000.0</td>\n      <td>204000.0</td>\n      <td>1.19</td>\n      <td>760000.0</td>\n      <td>1998</td>\n    </tr>\n  </tbody>\n</table>\n</div>"
     },
     "execution_count": 4,
     "metadata": {},
     "output_type": "execute_result"
    }
   ],
   "source": [
    "import pandas as pd\n",
    "\n",
    "df_honey_production = pd.read_csv(\"data/honeyproduction.csv\")\n",
    "\n",
    "df_honey_production.head(10)"
   ],
   "metadata": {
    "collapsed": false,
    "pycharm": {
     "name": "#%%\n"
    }
   }
  },
  {
   "cell_type": "markdown",
   "source": [
    "### Shape"
   ],
   "metadata": {
    "collapsed": false
   }
  },
  {
   "cell_type": "code",
   "execution_count": 5,
   "outputs": [
    {
     "name": "stdout",
     "output_type": "stream",
     "text": [
      "Number of rows:  626\n",
      "Number of columns:  8\n"
     ]
    }
   ],
   "source": [
    "nr_rows, nr_columns = df_honey_production.shape\n",
    "\n",
    "print(\"Number of rows: \", nr_rows)\n",
    "print(\"Number of columns: \", nr_columns)"
   ],
   "metadata": {
    "collapsed": false,
    "pycharm": {
     "name": "#%%\n"
    }
   }
  },
  {
   "cell_type": "markdown",
   "source": [
    "### Data Types"
   ],
   "metadata": {
    "collapsed": false
   }
  },
  {
   "cell_type": "code",
   "execution_count": 6,
   "outputs": [
    {
     "data": {
      "text/plain": "state           object\nnumcol         float64\nyieldpercol      int64\ntotalprod      float64\nstocks         float64\npriceperlb     float64\nprodvalue      float64\nyear             int64\ndtype: object"
     },
     "execution_count": 6,
     "metadata": {},
     "output_type": "execute_result"
    }
   ],
   "source": [
    "df_honey_production.dtypes"
   ],
   "metadata": {
    "collapsed": false,
    "pycharm": {
     "name": "#%%\n"
    }
   }
  },
  {
   "cell_type": "markdown",
   "source": [
    "### Missing Values"
   ],
   "metadata": {
    "collapsed": false
   }
  },
  {
   "cell_type": "code",
   "execution_count": 7,
   "outputs": [
    {
     "data": {
      "text/plain": "state          0\nnumcol         0\nyieldpercol    0\ntotalprod      0\nstocks         0\npriceperlb     0\nprodvalue      0\nyear           0\ndtype: int64"
     },
     "execution_count": 7,
     "metadata": {},
     "output_type": "execute_result"
    }
   ],
   "source": [
    "df_honey_production.isnull().sum()"
   ],
   "metadata": {
    "collapsed": false,
    "pycharm": {
     "name": "#%%\n"
    }
   }
  },
  {
   "cell_type": "markdown",
   "source": [
    "## Preprocessing"
   ],
   "metadata": {
    "collapsed": false
   }
  },
  {
   "cell_type": "code",
   "execution_count": 15,
   "outputs": [
    {
     "data": {
      "text/plain": "   year     totalprod\n0  1998  5.105093e+06\n1  1999  4.706674e+06\n2  2000  5.106000e+06\n3  2001  4.221545e+06\n4  2002  3.892386e+06\n5  2003  4.122091e+06\n6  2004  4.456805e+06\n7  2005  4.243146e+06\n8  2006  3.761902e+06\n9  2007  3.600512e+06",
      "text/html": "<div>\n<style scoped>\n    .dataframe tbody tr th:only-of-type {\n        vertical-align: middle;\n    }\n\n    .dataframe tbody tr th {\n        vertical-align: top;\n    }\n\n    .dataframe thead th {\n        text-align: right;\n    }\n</style>\n<table border=\"1\" class=\"dataframe\">\n  <thead>\n    <tr style=\"text-align: right;\">\n      <th></th>\n      <th>year</th>\n      <th>totalprod</th>\n    </tr>\n  </thead>\n  <tbody>\n    <tr>\n      <th>0</th>\n      <td>1998</td>\n      <td>5.105093e+06</td>\n    </tr>\n    <tr>\n      <th>1</th>\n      <td>1999</td>\n      <td>4.706674e+06</td>\n    </tr>\n    <tr>\n      <th>2</th>\n      <td>2000</td>\n      <td>5.106000e+06</td>\n    </tr>\n    <tr>\n      <th>3</th>\n      <td>2001</td>\n      <td>4.221545e+06</td>\n    </tr>\n    <tr>\n      <th>4</th>\n      <td>2002</td>\n      <td>3.892386e+06</td>\n    </tr>\n    <tr>\n      <th>5</th>\n      <td>2003</td>\n      <td>4.122091e+06</td>\n    </tr>\n    <tr>\n      <th>6</th>\n      <td>2004</td>\n      <td>4.456805e+06</td>\n    </tr>\n    <tr>\n      <th>7</th>\n      <td>2005</td>\n      <td>4.243146e+06</td>\n    </tr>\n    <tr>\n      <th>8</th>\n      <td>2006</td>\n      <td>3.761902e+06</td>\n    </tr>\n    <tr>\n      <th>9</th>\n      <td>2007</td>\n      <td>3.600512e+06</td>\n    </tr>\n  </tbody>\n</table>\n</div>"
     },
     "execution_count": 15,
     "metadata": {},
     "output_type": "execute_result"
    }
   ],
   "source": [
    "df_honey_production[\"state\"] = df_honey_production[\"state\"].astype(\"string\")\n",
    "\n",
    "production_per_year = df_honey_production.groupby(\"year\").totalprod.mean().reset_index()\n",
    "\n",
    "production_per_year.head(10)"
   ],
   "metadata": {
    "collapsed": false,
    "pycharm": {
     "name": "#%%\n"
    }
   }
  },
  {
   "cell_type": "markdown",
   "source": [
    "## Preparing Label Variable"
   ],
   "metadata": {
    "collapsed": false
   }
  },
  {
   "cell_type": "code",
   "execution_count": 16,
   "outputs": [
    {
     "name": "stdout",
     "output_type": "stream",
     "text": [
      "[[1998]\n",
      " [1999]\n",
      " [2000]\n",
      " [2001]\n",
      " [2002]\n",
      " [2003]\n",
      " [2004]\n",
      " [2005]\n",
      " [2006]\n",
      " [2007]\n",
      " [2008]\n",
      " [2009]\n",
      " [2010]\n",
      " [2011]\n",
      " [2012]]\n"
     ]
    }
   ],
   "source": [
    "label = production_per_year[\"year\"]\n",
    "\n",
    "label = label.values.reshape(-1, 1)"
   ],
   "metadata": {
    "collapsed": false,
    "pycharm": {
     "name": "#%%\n"
    }
   }
  },
  {
   "cell_type": "markdown",
   "source": [
    "## Preparing Target Variable"
   ],
   "metadata": {
    "collapsed": false
   }
  },
  {
   "cell_type": "code",
   "execution_count": 17,
   "outputs": [
    {
     "name": "stdout",
     "output_type": "stream",
     "text": [
      "[[5105093.02325581]\n",
      " [4706674.41860465]\n",
      " [5106000.        ]\n",
      " [4221545.45454545]\n",
      " [3892386.36363636]\n",
      " [4122090.90909091]\n",
      " [4456804.87804878]\n",
      " [4243146.34146341]\n",
      " [3761902.43902439]\n",
      " [3600512.19512195]\n",
      " [3974926.82926829]\n",
      " [3626700.        ]\n",
      " [4382350.        ]\n",
      " [3680025.        ]\n",
      " [3522675.        ]]\n"
     ]
    }
   ],
   "source": [
    "target = production_per_year[\"totalprod\"]\n",
    "\n",
    "target = target.values.reshape(-1, 1)"
   ],
   "metadata": {
    "collapsed": false,
    "pycharm": {
     "name": "#%%\n"
    }
   }
  },
  {
   "cell_type": "markdown",
   "source": [
    "## Visualizing Data to Observe Relationships between Variables"
   ],
   "metadata": {
    "collapsed": false,
    "pycharm": {
     "name": "#%% md\n"
    }
   }
  },
  {
   "cell_type": "code",
   "execution_count": 19,
   "outputs": [
    {
     "data": {
      "text/plain": "<Figure size 432x288 with 1 Axes>",
      "image/png": "[encoded data removed]"
     },
     "metadata": {
      "needs_background": "light"
     },
     "output_type": "display_data"
    }
   ],
   "source": [
    "import matplotlib.pyplot as plt\n",
    "\n",
    "plt.scatter(label, target)\n",
    "plt.xlabel(\"Year\")\n",
    "plt.ylabel(\"Total of honey production\")\n",
    "plt.legend(\"Relationship between year and honey production\")\n",
    "plt.show()"
   ],
   "metadata": {
    "collapsed": false,
    "pycharm": {
     "name": "#%%\n"
    }
   }
  },
  {
   "cell_type": "markdown",
   "source": [
    "## Linear Regression Model"
   ],
   "metadata": {
    "collapsed": false
   }
  },
  {
   "cell_type": "code",
   "execution_count": 23,
   "outputs": [
    {
     "name": "stdout",
     "output_type": "stream",
     "text": [
      "The slope of the model is:  -88303.18915238192\n",
      "The intercept of the model is:  181208083.10732976\n"
     ]
    }
   ],
   "source": [
    "from sklearn.linear_model import LinearRegression\n",
    "\n",
    "regression = LinearRegression().fit(label, target)\n",
    "slope = regression.coef_\n",
    "intercept = regression.intercept_\n",
    "\n",
    "print(\"The slope of the model is: \", *slope[0])\n",
    "print(\"The intercept of the model is: \", *intercept)\n"
   ],
   "metadata": {
    "collapsed": false,
    "pycharm": {
     "name": "#%%\n"
    }
   }
  },
  {
   "cell_type": "code",
   "source": [
    "honey_prod_predict = regression.predict(label)\n",
    "\n",
    "print(\"The predictions of honey production: \", *honey_prod_predict)\n",
    "\n",
    "plt.plot(label, honey_prod_predict)\n",
    "plt.xlabel(\"Year\")\n",
    "plt.ylabel(\"Total of predicted honey production\")\n",
    "plt.show()"
   ],
   "metadata": {
    "collapsed": false,
    "pycharm": {
     "name": "#%%\n"
    }
   },
   "execution_count": 27,
   "outputs": [
    {
     "name": "stdout",
     "output_type": "stream",
     "text": [
      "The predictions of honey production:  [4778311.18087068] [4690007.99171829] [4601704.8025659] [4513401.61341354] [4425098.42426115] [4336795.23510876] [4248492.04595637] [4160188.85680401] [4071885.66765162] [3983582.47849923] [3895279.28934684] [3806976.10019448] [3718672.91104209] [3630369.7218897] [3542066.53273734]\n"
     ]
    },
    {
     "data": {
      "text/plain": "<Figure size 432x288 with 1 Axes>",
      "image/png": "[encoded data removed]"
     },
     "metadata": {
      "needs_background": "light"
     },
     "output_type": "display_data"
    }
   ]
  },
  {
   "cell_type": "markdown",
   "source": [
    "So, it looks like the production of honey has been in decline, according to this linear model."
   ],
   "metadata": {
    "collapsed": false
   }
  },
  {
   "cell_type": "markdown",
   "source": [
    "## Predict the Honey Decline"
   ],
   "metadata": {
    "collapsed": false
   }
  },
  {
   "cell_type": "code",
   "execution_count": 35,
   "outputs": [
    {
     "data": {
      "text/plain": "<Figure size 432x288 with 1 Axes>",
      "image/png": "[encoded data removed]"
     },
     "metadata": {
      "needs_background": "light"
     },
     "output_type": "display_data"
    },
    {
     "name": "stdout",
     "output_type": "stream",
     "text": [
      "According the Linear Regression model, the predicted honey production for 2050 is  186545.34494683146\n"
     ]
    }
   ],
   "source": [
    "import numpy as np\n",
    "\n",
    "new_years = np.array(range(2014, 2051))\n",
    "\n",
    "new_years = new_years.reshape(-1, 1)\n",
    "\n",
    "future_prediction = regression.predict(new_years)\n",
    "\n",
    "plt.plot(new_years, future_prediction)\n",
    "plt.xlabel(\"Year\")\n",
    "plt.ylabel(\"Total of predicted honey production\")\n",
    "plt.show()\n",
    "\n",
    "print(\"According the Linear Regression model, the predicted honey production for 2050 is \", future_prediction[-1][0])"
   ],
   "metadata": {
    "collapsed": false,
    "pycharm": {
     "name": "#%%\n"
    }
   }
  }
 ],
 "metadata": {
  "kernelspec": {
   "display_name": "Python 3",
   "language": "python",
   "name": "python3"
  },
  "language_info": {
   "codemirror_mode": {
    "name": "ipython",
    "version": 2
   },
   "file_extension": ".py",
   "mimetype": "text/x-python",
   "name": "python",
   "nbconvert_exporter": "python",
   "pygments_lexer": "ipython2",
   "version": "2.7.6"
  }
 },
 "nbformat": 4,
 "nbformat_minor": 0
}