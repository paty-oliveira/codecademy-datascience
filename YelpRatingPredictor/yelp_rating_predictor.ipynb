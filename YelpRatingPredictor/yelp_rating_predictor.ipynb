{
 "cells": [
  {
   "cell_type": "markdown",
   "metadata": {
    "collapsed": true,
    "pycharm": {
     "name": "#%% md\n"
    }
   },
   "source": [
    "# Project: Yelp Rating Predictor"
   ]
  },
  {
   "cell_type": "markdown",
   "source": [
    "## Load Yelp data"
   ],
   "metadata": {
    "collapsed": false,
    "pycharm": {
     "name": "#%% md\n"
    }
   }
  },
  {
   "cell_type": "markdown",
   "source": [
    "To get a better understanding, it was loaded all the datasets into a separated Pandas dataframes:\n",
    "\n",
    "- yelp_business.json: establishment data regarding location and attributes for all businesses in the dataset\n",
    "- yelp_review.json: Yelp review metadata by business\n",
    "- yelp_user.json: user profile metadata by business\n",
    "- yelp_checkin.json: online checkin metadata by business\n",
    "- yelp_tip.json: tip metadata by business\n",
    "- yelp_photo.json: photo metadata by business\n",
    "\n",
    "Some business questions arose during this section, where it was used some useful Pandas functions to answer that."
   ],
   "metadata": {
    "collapsed": false,
    "pycharm": {
     "name": "#%% md\n"
    }
   }
  },
  {
   "cell_type": "markdown",
   "source": [
    "### Business dataframe"
   ],
   "metadata": {
    "collapsed": false,
    "pycharm": {
     "name": "#%% md\n"
    }
   }
  },
  {
   "cell_type": "code",
   "execution_count": 102,
   "outputs": [
    {
     "name": "stdout",
     "output_type": "stream",
     "text": [
      "<class 'pandas.core.frame.DataFrame'>\n",
      "RangeIndex: 188593 entries, 0 to 188592\n",
      "Data columns (total 22 columns):\n",
      " #   Column              Non-Null Count   Dtype  \n",
      "---  ------              --------------   -----  \n",
      " 0   address             188593 non-null  object \n",
      " 1   alcohol?            188593 non-null  int64  \n",
      " 2   attributes          162807 non-null  object \n",
      " 3   business_id         188593 non-null  object \n",
      " 4   categories          188052 non-null  object \n",
      " 5   city                188593 non-null  object \n",
      " 6   good_for_kids       188593 non-null  int64  \n",
      " 7   has_bike_parking    188593 non-null  int64  \n",
      " 8   has_wifi            188593 non-null  int64  \n",
      " 9   hours               143791 non-null  object \n",
      " 10  is_open             188593 non-null  int64  \n",
      " 11  latitude            188587 non-null  float64\n",
      " 12  longitude           188587 non-null  float64\n",
      " 13  name                188593 non-null  object \n",
      " 14  neighborhood        188593 non-null  object \n",
      " 15  postal_code         188593 non-null  object \n",
      " 16  price_range         188593 non-null  int64  \n",
      " 17  review_count        188593 non-null  int64  \n",
      " 18  stars               188593 non-null  float64\n",
      " 19  state               188593 non-null  object \n",
      " 20  take_reservations   188593 non-null  int64  \n",
      " 21  takes_credit_cards  188593 non-null  int64  \n",
      "dtypes: float64(3), int64(9), object(10)\n",
      "memory usage: 31.7+ MB\n"
     ]
    }
   ],
   "source": [
    "import pandas as pd\n",
    "import json\n",
    "\n",
    "\n",
    "df_business = pd.read_json(\"data/yelp_business.json\", lines=True)\n",
    "#json_structure = json.loads(df_business.to_json(orient=\"records\"))\n",
    "#df_business = pd.json_normalize(json_structure)\n",
    "\n",
    "df_business.info()"
   ],
   "metadata": {
    "collapsed": false,
    "pycharm": {
     "name": "#%%\n"
    }
   }
  },
  {
   "cell_type": "markdown",
   "source": [
    "How many different businesses are in the business dataset?"
   ],
   "metadata": {
    "collapsed": false,
    "pycharm": {
     "name": "#%% md\n"
    }
   }
  },
  {
   "cell_type": "code",
   "execution_count": 103,
   "outputs": [
    {
     "name": "stdout",
     "output_type": "stream",
     "text": [
      "There are 188593 different businesses.\n"
     ]
    }
   ],
   "source": [
    "nr_business = df_business.shape[0]\n",
    "print(\"There are \" + str(nr_business) + \" different businesses.\")"
   ],
   "metadata": {
    "collapsed": false,
    "pycharm": {
     "name": "#%%\n"
    }
   }
  },
  {
   "cell_type": "markdown",
   "source": [
    "What is the Yelp rating, or stars, of the establishment with business_id = \"5EvUIR4IzCWUOm0PsUZXjA\"?"
   ],
   "metadata": {
    "collapsed": false,
    "pycharm": {
     "name": "#%% md\n"
    }
   }
  },
  {
   "cell_type": "code",
   "execution_count": 104,
   "outputs": [
    {
     "data": {
      "text/plain": "30781    3.0\nName: stars, dtype: float64"
     },
     "execution_count": 104,
     "metadata": {},
     "output_type": "execute_result"
    }
   ],
   "source": [
    "df_business.query(\"business_id == '5EvUIR4IzCWUOm0PsUZXjA'\")[\"stars\"]"
   ],
   "metadata": {
    "collapsed": false,
    "pycharm": {
     "name": "#%%\n"
    }
   }
  },
  {
   "cell_type": "markdown",
   "source": [
    "### Review dataframe"
   ],
   "metadata": {
    "collapsed": false,
    "pycharm": {
     "name": "#%% md\n"
    }
   }
  },
  {
   "cell_type": "code",
   "execution_count": 105,
   "outputs": [
    {
     "name": "stdout",
     "output_type": "stream",
     "text": [
      "<class 'pandas.core.frame.DataFrame'>\n",
      "RangeIndex: 188593 entries, 0 to 188592\n",
      "Data columns (total 7 columns):\n",
      " #   Column                    Non-Null Count   Dtype  \n",
      "---  ------                    --------------   -----  \n",
      " 0   business_id               188593 non-null  object \n",
      " 1   average_review_age        188593 non-null  float64\n",
      " 2   average_review_length     188593 non-null  float64\n",
      " 3   average_review_sentiment  188593 non-null  float64\n",
      " 4   number_funny_votes        188593 non-null  int64  \n",
      " 5   number_cool_votes         188593 non-null  int64  \n",
      " 6   number_useful_votes       188593 non-null  int64  \n",
      "dtypes: float64(3), int64(3), object(1)\n",
      "memory usage: 10.1+ MB\n"
     ]
    }
   ],
   "source": [
    "df_review = pd.read_json(\"data/yelp_review.json\", lines=True, orient=\"columns\")\n",
    "\n",
    "df_review.info()"
   ],
   "metadata": {
    "collapsed": false,
    "pycharm": {
     "name": "#%%\n"
    }
   }
  },
  {
   "cell_type": "markdown",
   "source": [
    "What are the different features in the review dataset?"
   ],
   "metadata": {
    "collapsed": false,
    "pycharm": {
     "name": "#%% md\n"
    }
   }
  },
  {
   "cell_type": "code",
   "execution_count": 106,
   "outputs": [
    {
     "name": "stdout",
     "output_type": "stream",
     "text": [
      "There are 7 different features.\n",
      "The features names are: \n",
      "business_id\n",
      "average_review_age\n",
      "average_review_length\n",
      "average_review_sentiment\n",
      "number_funny_votes\n",
      "number_cool_votes\n",
      "number_useful_votes\n"
     ]
    }
   ],
   "source": [
    "nr_features = df_review.shape[1]\n",
    "feature_names = df_review.columns\n",
    "\n",
    "print(\"There are \" + str(nr_features) + \" different features.\")\n",
    "print(\"The features names are: \", * feature_names, sep=\"\\n\")"
   ],
   "metadata": {
    "collapsed": false,
    "pycharm": {
     "name": "#%%\n"
    }
   }
  },
  {
   "cell_type": "markdown",
   "source": [
    "### User Dataframe"
   ],
   "metadata": {
    "collapsed": false,
    "pycharm": {
     "name": "#%% md\n"
    }
   }
  },
  {
   "cell_type": "code",
   "execution_count": 107,
   "outputs": [
    {
     "name": "stdout",
     "output_type": "stream",
     "text": [
      "<class 'pandas.core.frame.DataFrame'>\n",
      "RangeIndex: 188593 entries, 0 to 188592\n",
      "Data columns (total 6 columns):\n",
      " #   Column                      Non-Null Count   Dtype  \n",
      "---  ------                      --------------   -----  \n",
      " 0   business_id                 188593 non-null  object \n",
      " 1   average_number_friends      188593 non-null  float64\n",
      " 2   average_days_on_yelp        188593 non-null  float64\n",
      " 3   average_number_fans         188593 non-null  float64\n",
      " 4   average_review_count        188593 non-null  float64\n",
      " 5   average_number_years_elite  188593 non-null  float64\n",
      "dtypes: float64(5), object(1)\n",
      "memory usage: 8.6+ MB\n"
     ]
    }
   ],
   "source": [
    "df_user = pd.read_json(\"data/yelp_user.json\", lines=True, orient=\"columns\")\n",
    "\n",
    "df_user.info()"
   ],
   "metadata": {
    "collapsed": false,
    "pycharm": {
     "name": "#%%\n"
    }
   }
  },
  {
   "cell_type": "markdown",
   "source": [
    "What is the range of values for the features in the user dataset?"
   ],
   "metadata": {
    "collapsed": false,
    "pycharm": {
     "name": "#%% md\n"
    }
   }
  },
  {
   "cell_type": "code",
   "execution_count": 108,
   "outputs": [
    {
     "data": {
      "text/plain": "       average_number_friends  average_days_on_yelp  average_number_fans  \\\ncount           188593.000000         188593.000000        188593.000000   \nmean               105.132000           2005.367009            11.590148   \nstd                162.653680            554.174540            25.901801   \nmin                  1.000000             76.000000             0.000000   \n25%                 26.666667           1647.000000             0.666667   \n50%                 59.384615           1957.150000             3.583333   \n75%                117.666667           2312.238095            11.555556   \nmax               4219.000000           4860.000000          1174.666667   \n\n       average_review_count  average_number_years_elite  \ncount         188593.000000               188593.000000  \nmean             122.110660                    0.923313  \nstd              208.814471                    1.109289  \nmin                0.666667                    0.000000  \n25%               21.000000                    0.000000  \n50%               62.142857                    0.583333  \n75%              143.454545                    1.400000  \nmax             6335.000000                   10.666667  ",
      "text/html": "<div>\n<style scoped>\n    .dataframe tbody tr th:only-of-type {\n        vertical-align: middle;\n    }\n\n    .dataframe tbody tr th {\n        vertical-align: top;\n    }\n\n    .dataframe thead th {\n        text-align: right;\n    }\n</style>\n<table border=\"1\" class=\"dataframe\">\n  <thead>\n    <tr style=\"text-align: right;\">\n      <th></th>\n      <th>average_number_friends</th>\n      <th>average_days_on_yelp</th>\n      <th>average_number_fans</th>\n      <th>average_review_count</th>\n      <th>average_number_years_elite</th>\n    </tr>\n  </thead>\n  <tbody>\n    <tr>\n      <th>count</th>\n      <td>188593.000000</td>\n      <td>188593.000000</td>\n      <td>188593.000000</td>\n      <td>188593.000000</td>\n      <td>188593.000000</td>\n    </tr>\n    <tr>\n      <th>mean</th>\n      <td>105.132000</td>\n      <td>2005.367009</td>\n      <td>11.590148</td>\n      <td>122.110660</td>\n      <td>0.923313</td>\n    </tr>\n    <tr>\n      <th>std</th>\n      <td>162.653680</td>\n      <td>554.174540</td>\n      <td>25.901801</td>\n      <td>208.814471</td>\n      <td>1.109289</td>\n    </tr>\n    <tr>\n      <th>min</th>\n      <td>1.000000</td>\n      <td>76.000000</td>\n      <td>0.000000</td>\n      <td>0.666667</td>\n      <td>0.000000</td>\n    </tr>\n    <tr>\n      <th>25%</th>\n      <td>26.666667</td>\n      <td>1647.000000</td>\n      <td>0.666667</td>\n      <td>21.000000</td>\n      <td>0.000000</td>\n    </tr>\n    <tr>\n      <th>50%</th>\n      <td>59.384615</td>\n      <td>1957.150000</td>\n      <td>3.583333</td>\n      <td>62.142857</td>\n      <td>0.583333</td>\n    </tr>\n    <tr>\n      <th>75%</th>\n      <td>117.666667</td>\n      <td>2312.238095</td>\n      <td>11.555556</td>\n      <td>143.454545</td>\n      <td>1.400000</td>\n    </tr>\n    <tr>\n      <th>max</th>\n      <td>4219.000000</td>\n      <td>4860.000000</td>\n      <td>1174.666667</td>\n      <td>6335.000000</td>\n      <td>10.666667</td>\n    </tr>\n  </tbody>\n</table>\n</div>"
     },
     "execution_count": 108,
     "metadata": {},
     "output_type": "execute_result"
    }
   ],
   "source": [
    "df_user.describe()"
   ],
   "metadata": {
    "collapsed": false,
    "pycharm": {
     "name": "#%%\n"
    }
   }
  },
  {
   "cell_type": "markdown",
   "source": [
    "### Checking Dataframe"
   ],
   "metadata": {
    "collapsed": false,
    "pycharm": {
     "name": "#%% md\n"
    }
   }
  },
  {
   "cell_type": "code",
   "execution_count": 109,
   "outputs": [
    {
     "name": "stdout",
     "output_type": "stream",
     "text": [
      "<class 'pandas.core.frame.DataFrame'>\n",
      "RangeIndex: 157075 entries, 0 to 157074\n",
      "Data columns (total 4 columns):\n",
      " #   Column            Non-Null Count   Dtype \n",
      "---  ------            --------------   ----- \n",
      " 0   business_id       157075 non-null  object\n",
      " 1   time              157075 non-null  object\n",
      " 2   weekday_checkins  157075 non-null  int64 \n",
      " 3   weekend_checkins  157075 non-null  int64 \n",
      "dtypes: int64(2), object(2)\n",
      "memory usage: 4.8+ MB\n"
     ]
    }
   ],
   "source": [
    "df_checkin = pd.read_json(\"data/yelp_checkin.json\", lines=True, orient=\"columns\")\n",
    "#json_structure = json.loads(df_checkin.to_json(orient=\"records\"))\n",
    "#df_checkin = pd.json_normalize(json_structure)\n",
    "\n",
    "df_checkin.info()"
   ],
   "metadata": {
    "collapsed": false,
    "pycharm": {
     "name": "#%%\n"
    }
   }
  },
  {
   "cell_type": "markdown",
   "source": [
    "### Tip Dataframe"
   ],
   "metadata": {
    "collapsed": false,
    "pycharm": {
     "name": "#%% md\n"
    }
   }
  },
  {
   "cell_type": "code",
   "execution_count": 110,
   "outputs": [
    {
     "name": "stdout",
     "output_type": "stream",
     "text": [
      "<class 'pandas.core.frame.DataFrame'>\n",
      "RangeIndex: 121526 entries, 0 to 121525\n",
      "Data columns (total 3 columns):\n",
      " #   Column              Non-Null Count   Dtype  \n",
      "---  ------              --------------   -----  \n",
      " 0   business_id         121526 non-null  object \n",
      " 1   average_tip_length  121526 non-null  float64\n",
      " 2   number_tips         121526 non-null  int64  \n",
      "dtypes: float64(1), int64(1), object(1)\n",
      "memory usage: 2.8+ MB\n"
     ]
    }
   ],
   "source": [
    "df_tip = pd.read_json(\"data/yelp_tip.json\", lines=True, orient=\"columns\")\n",
    "\n",
    "df_tip.info(10)"
   ],
   "metadata": {
    "collapsed": false,
    "pycharm": {
     "name": "#%%\n"
    }
   }
  },
  {
   "cell_type": "markdown",
   "source": [
    "### Photo Dataframe"
   ],
   "metadata": {
    "collapsed": false,
    "pycharm": {
     "name": "#%% md\n"
    }
   }
  },
  {
   "cell_type": "code",
   "execution_count": 116,
   "outputs": [
    {
     "name": "stdout",
     "output_type": "stream",
     "text": [
      "<class 'pandas.core.frame.DataFrame'>\n",
      "RangeIndex: 32976 entries, 0 to 32975\n",
      "Data columns (total 3 columns):\n",
      " #   Column                  Non-Null Count  Dtype  \n",
      "---  ------                  --------------  -----  \n",
      " 0   business_id             32976 non-null  object \n",
      " 1   average_caption_length  32976 non-null  float64\n",
      " 2   number_pics             32976 non-null  int64  \n",
      "dtypes: float64(1), int64(1), object(1)\n",
      "memory usage: 773.0+ KB\n"
     ]
    }
   ],
   "source": [
    "df_photo = pd.read_json(\"data/yelp_photo.json\", lines=True, orient=\"columns\")\n",
    "\n",
    "df_photo.info(10)"
   ],
   "metadata": {
    "collapsed": false,
    "pycharm": {
     "name": "#%%\n"
    }
   }
  },
  {
   "cell_type": "markdown",
   "source": [
    "## Merging the Data"
   ],
   "metadata": {
    "collapsed": false,
    "pycharm": {
     "name": "#%% md\n"
    }
   }
  },
  {
   "cell_type": "markdown",
   "source": [
    "Since we are working with data from several files, we need to combine the data into a single DataFrame that allows us to analyze the different features with respect to our target variable, the Yelp rating. We can do this by merging the multiple DataFrames we have together, joining them on the columns they have in common. In our case, this unique identifying column is the **business_id**."
   ],
   "metadata": {
    "collapsed": false,
    "pycharm": {
     "name": "#%% md\n"
    }
   }
  },
  {
   "cell_type": "code",
   "execution_count": 112,
   "outputs": [
    {
     "name": "stdout",
     "output_type": "stream",
     "text": [
      "The columns are: \n",
      "address\n",
      "alcohol?\n",
      "attributes\n",
      "business_id\n",
      "categories\n",
      "city\n",
      "good_for_kids\n",
      "has_bike_parking\n",
      "has_wifi\n",
      "hours\n",
      "is_open\n",
      "latitude\n",
      "longitude\n",
      "name\n",
      "neighborhood\n",
      "postal_code\n",
      "price_range\n",
      "review_count\n",
      "stars\n",
      "state\n",
      "take_reservations\n",
      "takes_credit_cards\n",
      "average_tip_length\n",
      "number_tips\n",
      "average_caption_length\n",
      "number_pics\n",
      "average_number_friends\n",
      "average_days_on_yelp\n",
      "average_number_fans\n",
      "average_review_count\n",
      "average_number_years_elite\n",
      "average_review_age\n",
      "average_review_length\n",
      "average_review_sentiment\n",
      "number_funny_votes\n",
      "number_cool_votes\n",
      "number_useful_votes\n",
      "time\n",
      "weekday_checkins\n",
      "weekend_checkins\n"
     ]
    }
   ],
   "source": [
    "from functools import reduce\n",
    "\n",
    "all_dfs = [df_business, df_tip, df_photo, df_user, df_review, df_checkin]\n",
    "\n",
    "df = reduce(lambda left, right: pd.merge(left, right, on=\"business_id\"), all_dfs)\n",
    "\n",
    "print(\"The columns are: \", *df.columns, sep=\"\\n\")"
   ],
   "metadata": {
    "collapsed": false,
    "pycharm": {
     "name": "#%%\n"
    }
   }
  },
  {
   "cell_type": "markdown",
   "source": [
    "## Cleaning/Preprocessing Data"
   ],
   "metadata": {
    "collapsed": false,
    "pycharm": {
     "name": "#%% md\n"
    }
   }
  },
  {
   "cell_type": "markdown",
   "source": [
    "Now that all of the data has been imported as a pandas DataFrame, we just have to clean our data a bit so we can focus on the features that might have predictive power for\n",
    "determining an establishment’s Yelp rating.\n",
    "\n",
    "In a Linear Regression model, our features will ideally be continuous variables that have an effect on our dependent variable, the Yelp rating.\n",
    "For this project, we will also be working with some features that are binary, on the scale [0,1]. With this information, we can remove any columns in the dataset that are not\n",
    "continuous or binary and that we do not want to make predictions on.\n",
    "\n",
    "Now we just have to check our data to make sure we don’t have any missing values, or NaNs, which will prevent the Linear Regression model from running correctly. Check if df is\n",
    "missing any values. Fill any missing values in df with 0, and then confirm the missing values have been filled."
   ],
   "metadata": {
    "collapsed": false,
    "pycharm": {
     "name": "#%% md\n"
    }
   }
  },
  {
   "cell_type": "markdown",
   "source": [
    "### Dropping unnecessary features"
   ],
   "metadata": {
    "collapsed": false,
    "pycharm": {
     "name": "#%% md\n"
    }
   }
  },
  {
   "cell_type": "code",
   "execution_count": 113,
   "outputs": [],
   "source": [
    "features_to_remove = ['address', 'attributes', 'business_id', 'categories',\n",
    "                    'city', 'hours', 'is_open', 'latitude', 'longitude',\n",
    "                    'name', 'neighborhood', 'postal_code', 'state', 'time']\n",
    "\n",
    "df = df.drop(columns=features_to_remove, axis=1)"
   ],
   "metadata": {
    "collapsed": false,
    "pycharm": {
     "name": "#%%\n"
    }
   }
  },
  {
   "cell_type": "markdown",
   "source": [
    "### Filling NaN values"
   ],
   "metadata": {
    "collapsed": false,
    "pycharm": {
     "name": "#%% md\n"
    }
   }
  },
  {
   "cell_type": "code",
   "execution_count": 114,
   "outputs": [
    {
     "data": {
      "text/plain": "alcohol?                      0\ngood_for_kids                 0\nhas_bike_parking              0\nhas_wifi                      0\nprice_range                   0\nreview_count                  0\nstars                         0\ntake_reservations             0\ntakes_credit_cards            0\naverage_tip_length            0\nnumber_tips                   0\naverage_caption_length        0\nnumber_pics                   0\naverage_number_friends        0\naverage_days_on_yelp          0\naverage_number_fans           0\naverage_review_count          0\naverage_number_years_elite    0\naverage_review_age            0\naverage_review_length         0\naverage_review_sentiment      0\nnumber_funny_votes            0\nnumber_cool_votes             0\nnumber_useful_votes           0\nweekday_checkins              0\nweekend_checkins              0\ndtype: int64"
     },
     "execution_count": 114,
     "metadata": {},
     "output_type": "execute_result"
    }
   ],
   "source": [
    "\n",
    "df = df.fillna(0)\n",
    "\n",
    "df.isnull().sum()"
   ],
   "metadata": {
    "collapsed": false,
    "pycharm": {
     "name": "#%%\n"
    }
   }
  }
 ],
 "metadata": {
  "kernelspec": {
   "display_name": "Python 3",
   "language": "python",
   "name": "python3"
  },
  "language_info": {
   "codemirror_mode": {
    "name": "ipython",
    "version": 2
   },
   "file_extension": ".py",
   "mimetype": "text/x-python",
   "name": "python",
   "nbconvert_exporter": "python",
   "pygments_lexer": "ipython2",
   "version": "2.7.6"
  }
 },
 "nbformat": 4,
 "nbformat_minor": 0
}